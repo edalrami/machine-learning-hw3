{
 "cells": [
  {
   "cell_type": "markdown",
   "metadata": {},
   "source": [
    "Authored by *Tyler Norlund* and *Edwin Ramirez*"
   ]
  },
  {
   "cell_type": "markdown",
   "metadata": {},
   "source": [
    "# Machine Learning HW3\n",
    "**Clustering and Radial Basis Functions**"
   ]
  },
  {
   "cell_type": "code",
   "execution_count": 8,
   "metadata": {},
   "outputs": [],
   "source": [
    "import pandas as pd\n",
    "from pandas import DataFrame\n",
    "import numpy as np\n",
    "import random\n",
    "import seaborn as sns\n",
    "import matplotlib.pyplot as plt"
   ]
  },
  {
   "cell_type": "markdown",
   "metadata": {},
   "source": [
    "## Problem 1\n",
    "\n",
    "In this problem you will use the data file “kMeansData.csv” ($x_1$ and $x_2$ denote the input features) to create 3 clusters using unsupervised Lloyd’s k-means algorithm.\n",
    "\n",
    "The training should only stop if the difference between the cluster center locations in two consecutive iterations is less than 0.001 or if the number of iterations has reached 1000. For the initial selection of cluster locations choose 3 points from the data set randomly.\n",
    "\n",
    "After convergence, report the final cluster centers. Plot the 3 clusters in different colors with cluster centers clearly marked on the plot.\n",
    "\n",
    "*Answer*"
   ]
  },
  {
   "cell_type": "markdown",
   "metadata": {},
   "source": [
    "In order to implement Lloyd's k-means algorithm, we need to:\n",
    "1. Generate the random centers\n",
    "2. "
   ]
  },
  {
   "cell_type": "code",
   "execution_count": 9,
   "metadata": {},
   "outputs": [],
   "source": [
    "#read in data\n",
    "df = pd.read_csv('kMeansData.csv')\n",
    "\n",
    "#Create class column, and set all values to Nan\n",
    "#Classes have not been defined yet\n",
    "df['class'] = np.nan"
   ]
  },
  {
   "cell_type": "markdown",
   "metadata": {},
   "source": [
    "Data contains x1, and x2 points along with the class column. The objective is to pick 3 random centers in the plot of our data from which we will utilize to classify all other points into a class. "
   ]
  },
  {
   "cell_type": "code",
   "execution_count": 10,
   "metadata": {},
   "outputs": [
    {
     "data": {
      "text/html": [
       "<div>\n",
       "<style scoped>\n",
       "    .dataframe tbody tr th:only-of-type {\n",
       "        vertical-align: middle;\n",
       "    }\n",
       "\n",
       "    .dataframe tbody tr th {\n",
       "        vertical-align: top;\n",
       "    }\n",
       "\n",
       "    .dataframe thead th {\n",
       "        text-align: right;\n",
       "    }\n",
       "</style>\n",
       "<table border=\"1\" class=\"dataframe\">\n",
       "  <thead>\n",
       "    <tr style=\"text-align: right;\">\n",
       "      <th></th>\n",
       "      <th>x1</th>\n",
       "      <th>x2</th>\n",
       "      <th>class</th>\n",
       "    </tr>\n",
       "  </thead>\n",
       "  <tbody>\n",
       "    <tr>\n",
       "      <th>0</th>\n",
       "      <td>1.4</td>\n",
       "      <td>0.2</td>\n",
       "      <td>NaN</td>\n",
       "    </tr>\n",
       "    <tr>\n",
       "      <th>1</th>\n",
       "      <td>1.4</td>\n",
       "      <td>0.2</td>\n",
       "      <td>NaN</td>\n",
       "    </tr>\n",
       "    <tr>\n",
       "      <th>2</th>\n",
       "      <td>1.3</td>\n",
       "      <td>0.2</td>\n",
       "      <td>NaN</td>\n",
       "    </tr>\n",
       "    <tr>\n",
       "      <th>3</th>\n",
       "      <td>1.5</td>\n",
       "      <td>0.2</td>\n",
       "      <td>NaN</td>\n",
       "    </tr>\n",
       "    <tr>\n",
       "      <th>4</th>\n",
       "      <td>1.4</td>\n",
       "      <td>0.2</td>\n",
       "      <td>NaN</td>\n",
       "    </tr>\n",
       "  </tbody>\n",
       "</table>\n",
       "</div>"
      ],
      "text/plain": [
       "    x1   x2  class\n",
       "0  1.4  0.2    NaN\n",
       "1  1.4  0.2    NaN\n",
       "2  1.3  0.2    NaN\n",
       "3  1.5  0.2    NaN\n",
       "4  1.4  0.2    NaN"
      ]
     },
     "execution_count": 10,
     "metadata": {},
     "output_type": "execute_result"
    }
   ],
   "source": [
    "df.head()"
   ]
  },
  {
   "cell_type": "code",
   "execution_count": 11,
   "metadata": {},
   "outputs": [],
   "source": [
    "def get_centers(num, df):\n",
    "    #Randomly pick num center points within the dataset\n",
    "    random.seed(11)\n",
    "    centers = [(random.uniform(df.x1.min(), df.x1.max()), random.uniform(df.x2.min(), df.x2.max()))for i in range(num)]\n",
    "    return centers"
   ]
  },
  {
   "cell_type": "code",
   "execution_count": 12,
   "metadata": {},
   "outputs": [
    {
     "data": {
      "text/plain": [
       "[(3.66903936570793, 1.4434537265931904),\n",
       " (6.4528424457400035, 1.2175601682394561),\n",
       " (3.9962635110674, 1.5097235892397527)]"
      ]
     },
     "execution_count": 12,
     "metadata": {},
     "output_type": "execute_result"
    }
   ],
   "source": [
    "centers = get_centers(3, df)\n",
    "centers"
   ]
  },
  {
   "cell_type": "code",
   "execution_count": 15,
   "metadata": {},
   "outputs": [
    {
     "data": {
      "image/png": "[encoded data removed]",
      "text/plain": [
       "<Figure size 864x576 with 1 Axes>"
      ]
     },
     "metadata": {
      "needs_background": "light"
     },
     "output_type": "display_data"
    }
   ],
   "source": [
    "def plot_clusters(classes, df, centers):\n",
    "    \n",
    "    num = str(len(centers))\n",
    "    fig, ax = plt.subplots(figsize = (12.0, 8.0))\n",
    "    if classes:\n",
    "        for ii in range(len(centers)):\n",
    "            ax.scatter(df[df['class'] == ii].x1, df[df['class'] == ii].x2)\n",
    "        ax.set_title(\"KMeans Classifcation of \"+ num + \" Clusters\", weight=\"bold\")\n",
    "    else:\n",
    "        ax.scatter(df.x1, df.x2)\n",
    "        ax.set_title( num + \" Centroids Randomly Selected Before KMeans Classifcation\", weight=\"bold\")\n",
    "    [ax.scatter(center[0], center[1], marker='X', c='k') for center in centers]\n",
    "    sns.despine(left=True, bottom=True)\n",
    "    ax.tick_params(bottom=False, left=False)\n",
    "    ax.set_yticklabels([])\n",
    "    ax.set_xticklabels([])\n",
    "    ax.set_xlabel(\"x1 points\", weight = \"bold\")\n",
    "    ax.set_ylabel(\"x2 points\", weight = \"bold\")\n",
    "    plt.show()\n",
    "plot_clusters(False, df, centers)"
   ]
  },
  {
   "cell_type": "markdown",
   "metadata": {},
   "source": [
    "The Euclidean distance of each point to each centroid will be used to classify each point. The centroid that has the smallest distance to the test point will be usedt to classify the new point. \n",
    "\n",
    "$$\\sqrt{\n",
    "    (x_{1} - \\texttt{center}_1)^{2} + \n",
    "    (x_{2} - \\texttt{center}_2)^{2}\n",
    "} $$"
   ]
  },
  {
   "cell_type": "code",
   "execution_count": 16,
   "metadata": {},
   "outputs": [
    {
     "data": {
      "image/png": "[encoded data removed]",
      "text/plain": [
       "<Figure size 864x576 with 1 Axes>"
      ]
     },
     "metadata": {
      "needs_background": "light"
     },
     "output_type": "display_data"
    }
   ],
   "source": [
    "def get_classes(data_point, center_points):\n",
    "    #compute distance to all 3 centers, return the min index as classification\n",
    "    c = [ ((data_point.x1 - i[0])**2 + (data_point.x2 - i[1])**2)**0.5  for i in center_points]\n",
    "    return np.argmin(c)\n",
    "\n",
    "#classify all points\n",
    "df['class'] = [get_classes(df.iloc[i],centers) for i in range(0, len(df.x1))]\n",
    "plot_clusters(True, df, centers)"
   ]
  },
  {
   "cell_type": "markdown",
   "metadata": {},
   "source": [
    "Look at that! We were able to classify each point with a certain class. We can now update the centers to be in the centroid of each class. The assignment requires us to update the centers only if the delta is less than 0.001. The process will be:\n",
    "1. Update the centers\n",
    "2. Calculate the delta\n",
    "3. Compare the previous two deltas\n",
    "4. Repeat if the conditions are not meet"
   ]
  },
  {
   "cell_type": "code",
   "execution_count": 17,
   "metadata": {},
   "outputs": [],
   "source": [
    "def get_delta(num_centers, prev_centers, new_centers):\n",
    "    \n",
    "    #compute error to previous centers\n",
    "    dist = [((new_centers[i][0] - prev_centers[i][0])**2 + (new_centers[i][1] - prev_centers[i][1])**2) for i in range(num_centers)]\n",
    "    \n",
    "    #check that old and new centers are within 0.001 distance of each other\n",
    "    err = [i < 0.001 for i in dist]\n",
    "    return err"
   ]
  },
  {
   "cell_type": "code",
   "execution_count": 18,
   "metadata": {},
   "outputs": [
    {
     "name": "stdout",
     "output_type": "stream",
     "text": [
      "5\n"
     ]
    }
   ],
   "source": [
    "for i in range(1000):\n",
    "    #previous centers\n",
    "    prev_centers = centers\n",
    "    #compute new centers\n",
    "    centers = [(df[df['class'] == i].x1.mean(), df[df['class'] == i].x2.mean()) for i in range(3)]\n",
    "    #compute new classes\n",
    "    df['class'] = [get_classes(df.iloc[i], centers) for i in range(0, len(df.x1))]\n",
    "    \n",
    "    res = get_delta(3, prev_centers, centers)\n",
    "    iterations = i\n",
    "    cond = [True, True, True]\n",
    "    if(res == cond):\n",
    "        print(iterations+1)\n",
    "        break"
   ]
  },
  {
   "cell_type": "code",
   "execution_count": 19,
   "metadata": {},
   "outputs": [
    {
     "data": {
      "image/png": "[encoded data removed]",
      "text/plain": [
       "<Figure size 864x576 with 1 Axes>"
      ]
     },
     "metadata": {
      "needs_background": "light"
     },
     "output_type": "display_data"
    }
   ],
   "source": [
    "plot_clusters(True, df, centers)"
   ]
  },
  {
   "cell_type": "markdown",
   "metadata": {},
   "source": [
    "## Problem 2\n",
    "\n",
    "In this problem you will use the data file “rbfClassification.csv” to create an RBF classification model. $x_1$ and $x_2$ denote the input features and cls denotes the target class of the corresponding data points.\n",
    "\n",
    "### 1\n",
    "\n",
    "Use k-means clustering to determine the location of 2 cluster centers that you will use in your RBF model. Report the coordinate of the cluster centers.\n",
    "\n",
    "*Answer*"
   ]
  },
  {
   "cell_type": "code",
   "execution_count": 20,
   "metadata": {},
   "outputs": [],
   "source": [
    "rbf = pd.read_csv(\"rbfClassification.csv\")"
   ]
  },
  {
   "cell_type": "code",
   "execution_count": 21,
   "metadata": {},
   "outputs": [
    {
     "data": {
      "text/html": [
       "<div>\n",
       "<style scoped>\n",
       "    .dataframe tbody tr th:only-of-type {\n",
       "        vertical-align: middle;\n",
       "    }\n",
       "\n",
       "    .dataframe tbody tr th {\n",
       "        vertical-align: top;\n",
       "    }\n",
       "\n",
       "    .dataframe thead th {\n",
       "        text-align: right;\n",
       "    }\n",
       "</style>\n",
       "<table border=\"1\" class=\"dataframe\">\n",
       "  <thead>\n",
       "    <tr style=\"text-align: right;\">\n",
       "      <th></th>\n",
       "      <th>x1</th>\n",
       "      <th>x2</th>\n",
       "      <th>cls</th>\n",
       "    </tr>\n",
       "  </thead>\n",
       "  <tbody>\n",
       "    <tr>\n",
       "      <th>0</th>\n",
       "      <td>-2.427236</td>\n",
       "      <td>1.965984</td>\n",
       "      <td>1</td>\n",
       "    </tr>\n",
       "    <tr>\n",
       "      <th>1</th>\n",
       "      <td>2.382605</td>\n",
       "      <td>2.256614</td>\n",
       "      <td>0</td>\n",
       "    </tr>\n",
       "    <tr>\n",
       "      <th>2</th>\n",
       "      <td>-2.680668</td>\n",
       "      <td>2.379979</td>\n",
       "      <td>1</td>\n",
       "    </tr>\n",
       "    <tr>\n",
       "      <th>3</th>\n",
       "      <td>-2.620277</td>\n",
       "      <td>2.913823</td>\n",
       "      <td>0</td>\n",
       "    </tr>\n",
       "    <tr>\n",
       "      <th>4</th>\n",
       "      <td>1.513792</td>\n",
       "      <td>-2.312650</td>\n",
       "      <td>0</td>\n",
       "    </tr>\n",
       "  </tbody>\n",
       "</table>\n",
       "</div>"
      ],
      "text/plain": [
       "         x1        x2  cls\n",
       "0 -2.427236  1.965984    1\n",
       "1  2.382605  2.256614    0\n",
       "2 -2.680668  2.379979    1\n",
       "3 -2.620277  2.913823    0\n",
       "4  1.513792 -2.312650    0"
      ]
     },
     "execution_count": 21,
     "metadata": {},
     "output_type": "execute_result"
    }
   ],
   "source": [
    "rbf.head()"
   ]
  },
  {
   "cell_type": "code",
   "execution_count": 22,
   "metadata": {},
   "outputs": [],
   "source": [
    "rbf.columns = [\"x1\", \"x2\", \"class\"]"
   ]
  },
  {
   "cell_type": "code",
   "execution_count": 23,
   "metadata": {},
   "outputs": [
    {
     "data": {
      "text/html": [
       "<div>\n",
       "<style scoped>\n",
       "    .dataframe tbody tr th:only-of-type {\n",
       "        vertical-align: middle;\n",
       "    }\n",
       "\n",
       "    .dataframe tbody tr th {\n",
       "        vertical-align: top;\n",
       "    }\n",
       "\n",
       "    .dataframe thead th {\n",
       "        text-align: right;\n",
       "    }\n",
       "</style>\n",
       "<table border=\"1\" class=\"dataframe\">\n",
       "  <thead>\n",
       "    <tr style=\"text-align: right;\">\n",
       "      <th></th>\n",
       "      <th>x1</th>\n",
       "      <th>x2</th>\n",
       "      <th>class</th>\n",
       "    </tr>\n",
       "  </thead>\n",
       "  <tbody>\n",
       "    <tr>\n",
       "      <th>0</th>\n",
       "      <td>-2.427236</td>\n",
       "      <td>1.965984</td>\n",
       "      <td>1</td>\n",
       "    </tr>\n",
       "    <tr>\n",
       "      <th>1</th>\n",
       "      <td>2.382605</td>\n",
       "      <td>2.256614</td>\n",
       "      <td>0</td>\n",
       "    </tr>\n",
       "    <tr>\n",
       "      <th>2</th>\n",
       "      <td>-2.680668</td>\n",
       "      <td>2.379979</td>\n",
       "      <td>1</td>\n",
       "    </tr>\n",
       "    <tr>\n",
       "      <th>3</th>\n",
       "      <td>-2.620277</td>\n",
       "      <td>2.913823</td>\n",
       "      <td>0</td>\n",
       "    </tr>\n",
       "    <tr>\n",
       "      <th>4</th>\n",
       "      <td>1.513792</td>\n",
       "      <td>-2.312650</td>\n",
       "      <td>0</td>\n",
       "    </tr>\n",
       "  </tbody>\n",
       "</table>\n",
       "</div>"
      ],
      "text/plain": [
       "         x1        x2  class\n",
       "0 -2.427236  1.965984      1\n",
       "1  2.382605  2.256614      0\n",
       "2 -2.680668  2.379979      1\n",
       "3 -2.620277  2.913823      0\n",
       "4  1.513792 -2.312650      0"
      ]
     },
     "execution_count": 23,
     "metadata": {},
     "output_type": "execute_result"
    }
   ],
   "source": [
    "rbf.head()"
   ]
  },
  {
   "cell_type": "code",
   "execution_count": 24,
   "metadata": {},
   "outputs": [
    {
     "data": {
      "text/plain": [
       "[(-0.41890969618932594, 0.4799585701248432),\n",
       " (2.1969986804096218, -0.05222874338578043)]"
      ]
     },
     "execution_count": 24,
     "metadata": {},
     "output_type": "execute_result"
    }
   ],
   "source": [
    "centers2 = get_centers(2, rbf)\n",
    "centers2"
   ]
  },
  {
   "cell_type": "markdown",
   "metadata": {},
   "source": [
    "### Uncentered "
   ]
  },
  {
   "cell_type": "code",
   "execution_count": 25,
   "metadata": {},
   "outputs": [
    {
     "data": {
      "image/png": "[encoded data removed]",
      "text/plain": [
       "<Figure size 864x576 with 1 Axes>"
      ]
     },
     "metadata": {
      "needs_background": "light"
     },
     "output_type": "display_data"
    }
   ],
   "source": [
    "plot_clusters(True, rbf, centers2)"
   ]
  },
  {
   "cell_type": "markdown",
   "metadata": {},
   "source": [
    "## Centered"
   ]
  },
  {
   "cell_type": "code",
   "execution_count": 26,
   "metadata": {},
   "outputs": [
    {
     "name": "stdout",
     "output_type": "stream",
     "text": [
      "4\n"
     ]
    }
   ],
   "source": [
    "for i in range(1000):\n",
    "    #previous centers\n",
    "    prev_centers = centers2\n",
    "    #compute new centers\n",
    "    centers2 = [(rbf[rbf['class'] == i].x1.mean(), rbf[rbf['class'] == i].x2.mean()) for i in range(2)]\n",
    "    #compute new classes\n",
    "    rbf['class'] = [get_classes(rbf.iloc[i], centers2) for i in range(0, len(rbf.x1))]\n",
    "    \n",
    "    res = get_delta(2, prev_centers, centers2)\n",
    "    iterations = i\n",
    "    cond = [True, True]\n",
    "    if(res == cond):\n",
    "        print(iterations+1)\n",
    "        break"
   ]
  },
  {
   "cell_type": "code",
   "execution_count": 27,
   "metadata": {},
   "outputs": [
    {
     "data": {
      "image/png": "[encoded data removed]",
      "text/plain": [
       "<Figure size 864x576 with 1 Axes>"
      ]
     },
     "metadata": {
      "needs_background": "light"
     },
     "output_type": "display_data"
    }
   ],
   "source": [
    "plot_clusters(True, rbf, centers2)"
   ]
  },
  {
   "cell_type": "markdown",
   "metadata": {},
   "source": [
    "### 2\n",
    "\n",
    "Train an RBF model using $\\gamma = 0.5$. Report the correct classification rate of your model.\n",
    "\n",
    "*Answer*"
   ]
  },
  {
   "cell_type": "markdown",
   "metadata": {},
   "source": [
    "So! In order to solve for the RBF, we must define some variables. Let $\\mu$ be the centers we found previously and $\\gamma=0.5$. We can use the following estimation.\n",
    "\n",
    "$$\n",
    "\\begin{bmatrix}\n",
    "1 & e^{\\gamma |X_{1} - \\mu_{1} |^{2} } & e^{\\gamma |X_{1} - \\mu_{2} |^{2} } \\\\\n",
    "1 & e^{\\gamma |X_{2} - \\mu_{1} |^{2} } & e^{\\gamma |X_{2} - \\mu_{2} |^{2} } \\\\\n",
    "\\vdots & \\vdots & \\vdots \\\\\n",
    "1 & e^{\\gamma |X_{N} - \\mu_{1} |^{2} } & e^{\\gamma |X_{N} - \\mu_{2} |^{2} } \\\\\n",
    "\\end{bmatrix}\n",
    "\\begin{bmatrix}\n",
    "w_{0} \\\\\n",
    "w_{1} \\\\\n",
    "w_{2}\n",
    "\\end{bmatrix}\n",
    "\\approx\n",
    "\\begin{bmatrix}\n",
    "y_{0} \\\\\n",
    "y_{1} \\\\\n",
    "y_{2}\n",
    "\\end{bmatrix}\n",
    "$$\n",
    "\n",
    "To save space, we can rewrite the equation as:\n",
    "\n",
    "$$\n",
    "\\Phi w \\approx y \\text{.}\n",
    "$$\n",
    "\n",
    "Now we can solve for $w$ using linear regression:\n",
    "\n",
    "$$\n",
    "w \\approx (\\Phi^{T}\\Phi)^{-1}\\Phi^{T} y \\text{.}\n",
    "$$"
   ]
  },
  {
   "cell_type": "code",
   "execution_count": 28,
   "metadata": {},
   "outputs": [
    {
     "data": {
      "text/plain": [
       "[(1.306410424076923, -0.37348593276923076),\n",
       " (-2.2601480715714284, 2.1265867955714284)]"
      ]
     },
     "execution_count": 28,
     "metadata": {},
     "output_type": "execute_result"
    }
   ],
   "source": [
    "centers2"
   ]
  },
  {
   "cell_type": "code",
   "execution_count": 29,
   "metadata": {},
   "outputs": [
    {
     "data": {
      "text/plain": [
       "1.306410424076923"
      ]
     },
     "execution_count": 29,
     "metadata": {},
     "output_type": "execute_result"
    }
   ],
   "source": [
    "centers2[0][0]"
   ]
  },
  {
   "cell_type": "code",
   "execution_count": 30,
   "metadata": {},
   "outputs": [],
   "source": [
    "g = -0.5\n",
    "\n",
    "\n",
    "phi = [(1, \n",
    "        np.exp(g*((rbf.iloc[i].x1 - centers2[0][0])**2 + (rbf.iloc[i].x2 - centers2[0][1])**2)),\n",
    "        np.exp(g*((rbf.iloc[i].x1 - centers2[1][0])**2 + (rbf.iloc[i].x2 - centers2[1][1])**2)))\n",
    "       for i in range(len(rbf.x1))]"
   ]
  },
  {
   "cell_type": "code",
   "execution_count": 31,
   "metadata": {},
   "outputs": [],
   "source": [
    "phi = DataFrame(phi)"
   ]
  },
  {
   "cell_type": "code",
   "execution_count": 32,
   "metadata": {},
   "outputs": [],
   "source": [
    "y = rbf[\"class\"]"
   ]
  },
  {
   "cell_type": "code",
   "execution_count": 33,
   "metadata": {},
   "outputs": [],
   "source": [
    "phi_inv = DataFrame(np.linalg.pinv(phi.values), phi.columns, phi.index)"
   ]
  },
  {
   "cell_type": "code",
   "execution_count": 34,
   "metadata": {},
   "outputs": [
    {
     "data": {
      "text/html": [
       "<div>\n",
       "<style scoped>\n",
       "    .dataframe tbody tr th:only-of-type {\n",
       "        vertical-align: middle;\n",
       "    }\n",
       "\n",
       "    .dataframe tbody tr th {\n",
       "        vertical-align: top;\n",
       "    }\n",
       "\n",
       "    .dataframe thead th {\n",
       "        text-align: right;\n",
       "    }\n",
       "</style>\n",
       "<table border=\"1\" class=\"dataframe\">\n",
       "  <thead>\n",
       "    <tr style=\"text-align: right;\">\n",
       "      <th></th>\n",
       "      <th>0</th>\n",
       "      <th>1</th>\n",
       "      <th>2</th>\n",
       "    </tr>\n",
       "  </thead>\n",
       "  <tbody>\n",
       "    <tr>\n",
       "      <th>0</th>\n",
       "      <td>1.000000e+00</td>\n",
       "      <td>4.510281e-17</td>\n",
       "      <td>4.163336e-17</td>\n",
       "    </tr>\n",
       "    <tr>\n",
       "      <th>1</th>\n",
       "      <td>-4.440892e-16</td>\n",
       "      <td>1.000000e+00</td>\n",
       "      <td>-5.551115e-17</td>\n",
       "    </tr>\n",
       "    <tr>\n",
       "      <th>2</th>\n",
       "      <td>-3.330669e-16</td>\n",
       "      <td>-2.012279e-16</td>\n",
       "      <td>1.000000e+00</td>\n",
       "    </tr>\n",
       "  </tbody>\n",
       "</table>\n",
       "</div>"
      ],
      "text/plain": [
       "              0             1             2\n",
       "0  1.000000e+00  4.510281e-17  4.163336e-17\n",
       "1 -4.440892e-16  1.000000e+00 -5.551115e-17\n",
       "2 -3.330669e-16 -2.012279e-16  1.000000e+00"
      ]
     },
     "execution_count": 34,
     "metadata": {},
     "output_type": "execute_result"
    }
   ],
   "source": [
    "phi_inv.dot(phi)"
   ]
  },
  {
   "cell_type": "markdown",
   "metadata": {},
   "source": [
    "### Compute w"
   ]
  },
  {
   "cell_type": "code",
   "execution_count": 35,
   "metadata": {},
   "outputs": [
    {
     "data": {
      "text/plain": [
       "0    0.132013\n",
       "1   -0.539680\n",
       "2    1.189886\n",
       "dtype: float64"
      ]
     },
     "execution_count": 35,
     "metadata": {},
     "output_type": "execute_result"
    }
   ],
   "source": [
    "w = phi_inv.dot(y)\n",
    "w"
   ]
  },
  {
   "cell_type": "markdown",
   "metadata": {},
   "source": [
    "Alright! After solving for $w$, we can classify the points. We have 2 centers, $\\mu$, and 3 weights, $w$. We can use $h(x)$ to classify each point. We must remember that the linear regression used a column of $1$'s, and we will substitute $1$ in the summation. \n",
    "\n",
    "$$\n",
    "h(x) = \\sum_{k=1}^{K} w_{k} e^{-\\gamma |x - \\mu_{k} |^{2}}\n",
    "$$\n",
    "\n",
    "After computing $h(x)$, we can look at the graph and see that some $h$ values are greater than 0.5. The ones greater than 0.5 will be classified as class 1, while the ones less than 0.5 are classified as class 0."
   ]
  },
  {
   "cell_type": "code",
   "execution_count": 40,
   "metadata": {},
   "outputs": [],
   "source": [
    "h = phi\n",
    "h[0] = phi[0]*w[0]\n",
    "h[1] = phi[1]*w[1]\n",
    "h[2] = phi[2]*w[2]"
   ]
  },
  {
   "cell_type": "code",
   "execution_count": 42,
   "metadata": {},
   "outputs": [
    {
     "data": {
      "text/plain": [
       "20"
      ]
     },
     "execution_count": 42,
     "metadata": {},
     "output_type": "execute_result"
    }
   ],
   "source": [
    "len(h[0])"
   ]
  },
  {
   "cell_type": "code",
   "execution_count": 54,
   "metadata": {
    "scrolled": true
   },
   "outputs": [],
   "source": [
    "H = [sum(h.iloc[i]) for i in range(len(h[0]))]"
   ]
  },
  {
   "cell_type": "code",
   "execution_count": 60,
   "metadata": {},
   "outputs": [
    {
     "data": {
      "image/png": "[encoded data removed]",
      "text/plain": [
       "<Figure size 864x576 with 1 Axes>"
      ]
     },
     "metadata": {
      "needs_background": "light"
     },
     "output_type": "display_data"
    }
   ],
   "source": [
    "fig, ax = plt.subplots(figsize = (12.0, 8.0))\n",
    "ax.scatter(range(20), H)\n",
    "ax.axhline(y=0.5, color='k')\n",
    "sns.despine()"
   ]
  },
  {
   "cell_type": "code",
   "execution_count": 62,
   "metadata": {},
   "outputs": [],
   "source": [
    "def classify_points(point):\n",
    "    if point > 0.5:\n",
    "        cls = 1\n",
    "    else:\n",
    "        cls = 0\n",
    "    \n",
    "    return cls"
   ]
  },
  {
   "cell_type": "code",
   "execution_count": 63,
   "metadata": {},
   "outputs": [],
   "source": [
    "predictions = [classify_points(H[i]) for i in range(len(H))]"
   ]
  },
  {
   "cell_type": "code",
   "execution_count": 64,
   "metadata": {},
   "outputs": [
    {
     "data": {
      "text/plain": [
       "[1, 0, 1, 1, 0, 0, 0, 0, 0, 1, 0, 0, 0, 0, 0, 0, 0, 1, 0, 1]"
      ]
     },
     "execution_count": 64,
     "metadata": {},
     "output_type": "execute_result"
    }
   ],
   "source": [
    "predictions"
   ]
  },
  {
   "cell_type": "code",
   "execution_count": 66,
   "metadata": {},
   "outputs": [
    {
     "data": {
      "text/plain": [
       "0.95"
      ]
     },
     "execution_count": 66,
     "metadata": {},
     "output_type": "execute_result"
    }
   ],
   "source": [
    "accuracy = sum(predictions == rbf[\"class\"])/len(predictions)\n",
    "accuracy"
   ]
  },
  {
   "cell_type": "markdown",
   "metadata": {},
   "source": [
    "## Problem 3\n",
    "\n",
    "The “stuFile.csv” is a list of students’ features at an academic institution that is considering starting a new program. The features include average yearly packaged financial aid, the number of years that the financial aid is awarded for, gender, marital status, marketing code, previous education, admission representative code, program code, citizenship code, ethnicity code, veteran code, and cancel flag code. Some of the students listed in the file cancelled their enrollment after meeting with Financial Aid. These students can be identified by the value of 1 in the cancel flag field.\n",
    "\n",
    "This institution is considering starting a new program after researching the cannibalization rates, navigating regulatory requirements, and determining the potential market. There is an opportunity to market this program to students who cancelled before starting their originally intended program. The presump- tion is that the shorter duration and lower tuition rate of this program may be attractive to some students who cancelled.\n",
    "Your task is to look into the data and provide some insight into who “might” enroll from this population using the clustering schemes discussed in class.\n",
    "\n",
    "### 1\n",
    "\n",
    "Use Value Metric Difference (VDM) to find and report the distance between the different levels of all categorical variables.\n",
    "\n",
    "*Answer*"
   ]
  },
  {
   "cell_type": "markdown",
   "metadata": {},
   "source": [
    "### 2\n",
    "\n",
    "Use VDM along with other distance metrics for continuous features to cluster the data. Justify the number of clusters you have used. Use Elbow plot.\n",
    "\n",
    "*Answer*"
   ]
  },
  {
   "cell_type": "markdown",
   "metadata": {},
   "source": [
    "### 3\n",
    "\n",
    "Report the number of cancels and starts in each cluster in a table.\n",
    "\n",
    "*Answer*"
   ]
  },
  {
   "cell_type": "markdown",
   "metadata": {},
   "source": [
    "### 4\n",
    "\n",
    "Provide a heat map of admission reps, marital status, lead category, and previous education map for your clusters.\n",
    "\n",
    "*Answer*"
   ]
  },
  {
   "cell_type": "markdown",
   "metadata": {},
   "source": [
    "### 5\n",
    "\n",
    "In a few sentences, provide insight into identifying those students that are most likely to be converted. List these students.\n",
    "\n",
    "*Answer*"
   ]
  },
  {
   "cell_type": "code",
   "execution_count": null,
   "metadata": {},
   "outputs": [],
   "source": []
  }
 ],
 "metadata": {
  "kernelspec": {
   "display_name": "Python 3",
   "language": "python",
   "name": "python3"
  },
  "language_info": {
   "codemirror_mode": {
    "name": "ipython",
    "version": 3
   },
   "file_extension": ".py",
   "mimetype": "text/x-python",
   "name": "python",
   "nbconvert_exporter": "python",
   "pygments_lexer": "ipython3",
   "version": "3.6.6"
  }
 },
 "nbformat": 4,
 "nbformat_minor": 2
}
