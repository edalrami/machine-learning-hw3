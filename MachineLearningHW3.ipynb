{
 "cells": [
  {
   "cell_type": "markdown",
   "metadata": {},
   "source": [
    "Authored by *Tyler Norlund* and *Edwin Ramirez*"
   ]
  },
  {
   "cell_type": "markdown",
   "metadata": {},
   "source": [
    "# Machine Learning HW3\n",
    "**Clustering and Radial Basis Functions**"
   ]
  },
  {
   "cell_type": "code",
   "execution_count": 2,
   "metadata": {},
   "outputs": [],
   "source": [
    "import pandas as pd\n",
    "import numpy as np\n",
    "import random\n",
    "import seaborn as sns\n",
    "import matplotlib.pyplot as plt"
   ]
  },
  {
   "cell_type": "markdown",
   "metadata": {},
   "source": [
    "## Problem 1\n",
    "\n",
    "In this problem you will use the data file “kMeansData.csv” ($x_1$ and $x_2$ denote the input features) to create 3 clusters using unsupervised Lloyd’s k-means algorithm.\n",
    "\n",
    "The training should only stop if the difference between the cluster center locations in two consecutive iterations is less than 0.001 or if the number of iterations has reached 1000. For the initial selection of cluster locations choose 3 points from the data set randomly.\n",
    "\n",
    "After convergence, report the final cluster centers. Plot the 3 clusters in different colors with cluster centers clearly marked on the plot.\n",
    "\n",
    "*Answer*"
   ]
  },
  {
   "cell_type": "markdown",
   "metadata": {},
   "source": [
    "In order to implement Lloyd's k-means algorithm, we need to:\n",
    "1. Generate the random centers\n",
    "2. "
   ]
  },
  {
   "cell_type": "code",
   "execution_count": 32,
   "metadata": {},
   "outputs": [],
   "source": [
    "#read in data\n",
    "df = pd.read_csv('kMeansData.csv')\n",
    "\n",
    "#Create class column, and set all values to Nan\n",
    "#Classes have not been defined yet\n",
    "df['class'] = np.nan"
   ]
  },
  {
   "cell_type": "markdown",
   "metadata": {},
   "source": [
    "Data contains x1, and x2 points along with the class column. The objective is to pick 3 random centers in the plot of our data from which we will utilize to classify all other points into a class. "
   ]
  },
  {
   "cell_type": "code",
   "execution_count": 33,
   "metadata": {},
   "outputs": [
    {
     "data": {
      "text/html": [
       "<div>\n",
       "<style scoped>\n",
       "    .dataframe tbody tr th:only-of-type {\n",
       "        vertical-align: middle;\n",
       "    }\n",
       "\n",
       "    .dataframe tbody tr th {\n",
       "        vertical-align: top;\n",
       "    }\n",
       "\n",
       "    .dataframe thead th {\n",
       "        text-align: right;\n",
       "    }\n",
       "</style>\n",
       "<table border=\"1\" class=\"dataframe\">\n",
       "  <thead>\n",
       "    <tr style=\"text-align: right;\">\n",
       "      <th></th>\n",
       "      <th>x1</th>\n",
       "      <th>x2</th>\n",
       "      <th>class</th>\n",
       "    </tr>\n",
       "  </thead>\n",
       "  <tbody>\n",
       "    <tr>\n",
       "      <th>0</th>\n",
       "      <td>1.4</td>\n",
       "      <td>0.2</td>\n",
       "      <td>NaN</td>\n",
       "    </tr>\n",
       "    <tr>\n",
       "      <th>1</th>\n",
       "      <td>1.4</td>\n",
       "      <td>0.2</td>\n",
       "      <td>NaN</td>\n",
       "    </tr>\n",
       "    <tr>\n",
       "      <th>2</th>\n",
       "      <td>1.3</td>\n",
       "      <td>0.2</td>\n",
       "      <td>NaN</td>\n",
       "    </tr>\n",
       "    <tr>\n",
       "      <th>3</th>\n",
       "      <td>1.5</td>\n",
       "      <td>0.2</td>\n",
       "      <td>NaN</td>\n",
       "    </tr>\n",
       "    <tr>\n",
       "      <th>4</th>\n",
       "      <td>1.4</td>\n",
       "      <td>0.2</td>\n",
       "      <td>NaN</td>\n",
       "    </tr>\n",
       "  </tbody>\n",
       "</table>\n",
       "</div>"
      ],
      "text/plain": [
       "    x1   x2  class\n",
       "0  1.4  0.2    NaN\n",
       "1  1.4  0.2    NaN\n",
       "2  1.3  0.2    NaN\n",
       "3  1.5  0.2    NaN\n",
       "4  1.4  0.2    NaN"
      ]
     },
     "execution_count": 33,
     "metadata": {},
     "output_type": "execute_result"
    }
   ],
   "source": [
    "df.head()"
   ]
  },
  {
   "cell_type": "code",
   "execution_count": 44,
   "metadata": {
    "scrolled": true
   },
   "outputs": [
    {
     "data": {
      "text/plain": [
       "[(3.66903936570793, 1.4434537265931904),\n",
       " (6.4528424457400035, 1.2175601682394561),\n",
       " (3.9962635110674, 1.5097235892397527)]"
      ]
     },
     "execution_count": 44,
     "metadata": {},
     "output_type": "execute_result"
    }
   ],
   "source": [
    "#Define number of centers and create empty list that will hold the centroid points\n",
    "num_centers = 3\n",
    "centers = []\n",
    "random.seed(11)\n",
    "for ii in range(num_centers):\n",
    "    #Randomly pick num_centers points within the dataset\n",
    "    #and append to the list 'centers'\n",
    "    centers.append((\n",
    "        random.uniform(df.x1.min(),df.x1.max()), \n",
    "        random.uniform(df.x2.min(),df.x2.max())))\n",
    "centers"
   ]
  },
  {
   "cell_type": "code",
   "execution_count": 45,
   "metadata": {},
   "outputs": [
    {
     "data": {
      "image/png": "[encoded data removed]",
      "text/plain": [
       "<Figure size 864x576 with 1 Axes>"
      ]
     },
     "metadata": {
      "needs_background": "light"
     },
     "output_type": "display_data"
    }
   ],
   "source": [
    "def plot_clusters(classes = False):\n",
    "    \n",
    "    fig, ax = plt.subplots(figsize = (12.0, 8.0))\n",
    "    if classes:\n",
    "        for ii in range(num_centers):\n",
    "            ax.scatter(df[df['class'] == ii].x1, df[df['class'] == ii].x2)\n",
    "        ax.set_title(\"KMeans Classifcation of 3 Clusters\", weight=\"bold\")\n",
    "    else:\n",
    "        ax.scatter(df.x1, df.x2)\n",
    "        ax.set_title(\"3 Centroids Randomly Selected Before KMeans Classifcation\", weight=\"bold\")\n",
    "    [ax.scatter(center[0], center[1], marker='X', c='k') for center in centers]\n",
    "    sns.despine(left=True, bottom=True)\n",
    "    ax.tick_params(bottom=False, left=False)\n",
    "    ax.set_yticklabels([])\n",
    "    ax.set_xticklabels([])\n",
    "    ax.set_xlabel(\"x1 points\", weight = \"bold\")\n",
    "    ax.set_ylabel(\"x2 points\", weight = \"bold\")\n",
    "    plt.show()\n",
    "plot_clusters()"
   ]
  },
  {
   "cell_type": "markdown",
   "metadata": {},
   "source": [
    "The Euclidean distance of each point to each centroid will be used to classify each point. The centroid that has the smallest distance to the test point will be usedt to classify the new point. \n",
    "\n",
    "$$\\sqrt{\n",
    "    (x_{1} - \\texttt{center}_1)^{2} + \n",
    "    (x_{2} - \\texttt{center}_2)^{2}\n",
    "} $$"
   ]
  },
  {
   "cell_type": "code",
   "execution_count": 46,
   "metadata": {},
   "outputs": [
    {
     "data": {
      "image/png": "[encoded data removed]",
      "text/plain": [
       "<Figure size 864x576 with 1 Axes>"
      ]
     },
     "metadata": {
      "needs_background": "light"
     },
     "output_type": "display_data"
    }
   ],
   "source": [
    "def assign_classes():\n",
    "    #Compute distance for all points \n",
    "    #Use min distance to define class\n",
    "    for index, row in df.iterrows():\n",
    "        val, idx = min((val, idx) for (idx, val) in enumerate(\n",
    "            [((row.x1 - center[0])**2 + (row.x2 - center[1])**2)**0.5 for center in centers]))\n",
    "        df.iloc[index]['class'] = idx\n",
    "\n",
    "assign_classes()\n",
    "plot_clusters(classes=True)"
   ]
  },
  {
   "cell_type": "markdown",
   "metadata": {},
   "source": [
    "Look at that! We were able to classify each point with a certain class. We can now update the centers to be in the centroid of each class. The assignment requires us to update the centers only if the delta is less than 0.001. The process will be:\n",
    "1. Update the centers\n",
    "2. Calculate the delta\n",
    "3. Compare the previous two deltas\n",
    "4. Repeat if the conditions are not meet"
   ]
  },
  {
   "cell_type": "code",
   "execution_count": 47,
   "metadata": {},
   "outputs": [],
   "source": [
    "def get_delta():\n",
    "    #Compute x1 and x2 means to determine new centers\n",
    "    temp = []\n",
    "    [temp.append((df[df['class'] == float(ii)].x1.mean(), df[df['class'] == float(ii)].x2.mean())) for ii in range(num_centers)]\n",
    "    delta = []\n",
    "    for ii in range(num_centers):\n",
    "        delta.append((\n",
    "            temp[ii][0] - centers[ii][0],\n",
    "            temp[ii][1] - centers[ii][1]\n",
    "        ))\n",
    "    return delta"
   ]
  },
  {
   "cell_type": "code",
   "execution_count": 48,
   "metadata": {},
   "outputs": [],
   "source": [
    "def compare_centers(deltas):\n",
    "    temp = []\n",
    "    count = 0\n",
    "    for ii in range(1,3):\n",
    "        for jj in range(len(deltas[ii])):\n",
    "            temp.append((\n",
    "                abs(deltas[ii][jj][0]-deltas[ii-1][jj][0]), \n",
    "                abs(deltas[ii][jj][1]-deltas[ii-1][jj][1])))\n",
    "    for ii in temp:\n",
    "        if(ii[0] < 0.001 and ii[1] < 0.001):\n",
    "            count += 1\n",
    "    return count == (num_centers - 1) * 3"
   ]
  },
  {
   "cell_type": "code",
   "execution_count": 49,
   "metadata": {},
   "outputs": [
    {
     "data": {
      "image/png": "[encoded data removed]",
      "text/plain": [
       "<Figure size 864x576 with 1 Axes>"
      ]
     },
     "metadata": {
      "needs_background": "light"
     },
     "output_type": "display_data"
    }
   ],
   "source": [
    "deltas = []\n",
    "for ii in range(1000):\n",
    "    #recalculate new ceters, reclassify, and append delta value to delta[]\n",
    "    #Compare the delta values of each iteration to check for convergence \n",
    "    centers = [(df[df['class'] == float(ii)].x1.mean(), df[df['class'] == float(ii)].x2.mean()) for ii in range(num_centers)]\n",
    "    assign_classes()\n",
    "    deltas.append(get_delta())\n",
    "    if ii > 2:\n",
    "        if compare_centers(deltas):\n",
    "            break\n",
    "        deltas.pop(0)\n",
    "plot_clusters(classes=True)"
   ]
  },
  {
   "cell_type": "markdown",
   "metadata": {},
   "source": [
    "## Problem 2\n",
    "\n",
    "In this problem you will use the data file “rbfClassification.csv” to create an RBF classification model. $x_1$ and $x_2$ denote the input features and cls denotes the target class of the corresponding data points.\n",
    "\n",
    "### 1\n",
    "\n",
    "Use k-means clustering to determine the location of 2 cluster centers that you will use in your RBF model. Report the coordinate of the cluster centers.\n",
    "\n",
    "*Answer*"
   ]
  },
  {
   "cell_type": "markdown",
   "metadata": {},
   "source": [
    "### 2\n",
    "\n",
    "Train an RBF model using $\\gamma = 0.5$. Report the correct classification rate of your model.\n",
    "\n",
    "*Answer*"
   ]
  },
  {
   "cell_type": "markdown",
   "metadata": {},
   "source": [
    "## Problem 3\n",
    "\n",
    "The “stuFile.csv” is a list of students’ features at an academic institution that is considering starting a new program. The features include average yearly packaged financial aid, the number of years that the financial aid is awarded for, gender, marital status, marketing code, previous education, admission representative code, program code, citizenship code, ethnicity code, veteran code, and cancel flag code. Some of the students listed in the file cancelled their enrollment after meeting with Financial Aid. These students can be identified by the value of 1 in the cancel flag field.\n",
    "\n",
    "This institution is considering starting a new program after researching the cannibalization rates, navigating regulatory requirements, and determining the potential market. There is an opportunity to market this program to students who cancelled before starting their originally intended program. The presump- tion is that the shorter duration and lower tuition rate of this program may be attractive to some students who cancelled.\n",
    "Your task is to look into the data and provide some insight into who “might” enroll from this population using the clustering schemes discussed in class.\n",
    "\n",
    "### 1\n",
    "\n",
    "Use Value Metric Difference (VDM) to find and report the distance between the different levels of all categorical variables.\n",
    "\n",
    "*Answer*"
   ]
  },
  {
   "cell_type": "markdown",
   "metadata": {},
   "source": [
    "### 2\n",
    "\n",
    "Use VDM along with other distance metrics for continuous features to cluster the data. Justify the number of clusters you have used. Use Elbow plot.\n",
    "\n",
    "*Answer*"
   ]
  },
  {
   "cell_type": "markdown",
   "metadata": {},
   "source": [
    "### 3\n",
    "\n",
    "Report the number of cancels and starts in each cluster in a table.\n",
    "\n",
    "*Answer*"
   ]
  },
  {
   "cell_type": "markdown",
   "metadata": {},
   "source": [
    "### 4\n",
    "\n",
    "Provide a heat map of admission reps, marital status, lead category, and previous education map for your clusters.\n",
    "\n",
    "*Answer*"
   ]
  },
  {
   "cell_type": "markdown",
   "metadata": {},
   "source": [
    "### 5\n",
    "\n",
    "In a few sentences, provide insight into identifying those students that are most likely to be converted. List these students.\n",
    "\n",
    "*Answer*"
   ]
  },
  {
   "cell_type": "code",
   "execution_count": null,
   "metadata": {},
   "outputs": [],
   "source": []
  }
 ],
 "metadata": {
  "kernelspec": {
   "display_name": "Python 3",
   "language": "python",
   "name": "python3"
  }
 },
 "nbformat": 4,
 "nbformat_minor": 2
}
