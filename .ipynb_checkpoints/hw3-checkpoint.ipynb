version https://git-lfs.github.com/spec/v1
oid sha256:a85b7e4869e3aa383e272aca5f9c40de5a866b98294a0798babe15fedf49fdb8
size 113370
