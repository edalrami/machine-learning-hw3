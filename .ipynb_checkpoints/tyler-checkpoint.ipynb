version https://git-lfs.github.com/spec/v1
oid sha256:d2dcf8eaf73df8e5d11d3af9b706d2a14ce70360cd903ae01291f74cd7d38b70
size 57444
