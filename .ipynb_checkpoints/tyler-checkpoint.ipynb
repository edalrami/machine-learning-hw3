{
 "cells": [
  {
   "cell_type": "markdown",
   "metadata": {},
   "source": [
    "Authored by *Tyler Norlund* and *Edwin Ramirez*"
   ]
  },
  {
   "cell_type": "markdown",
   "metadata": {},
   "source": [
    "# Machine Learning HW3\n",
    "**Clustering and Radial Basis Functions**"
   ]
  },
  {
   "cell_type": "code",
   "execution_count": 2,
   "metadata": {},
   "outputs": [],
   "source": [
    "import pandas as pd\n",
    "import numpy as np\n",
    "import random\n",
    "import matplotlib.pyplot as plt\n",
    "from math import exp"
   ]
  },
  {
   "cell_type": "markdown",
   "metadata": {},
   "source": [
    "## Problem 1\n",
    "\n",
    "In this problem you will use the data file “kMeansData.csv” ($x_1$ and $x_2$ denote the input features) to create 3 clusters using unsupervised Lloyd’s k-means algorithm.\n",
    "\n",
    "The training should only stop if the difference between the cluster center locations in two consecutive iterations is less than 0.001 or if the number of iterations has reached 1000. For the initial selection of cluster locations choose 3 points from the data set randomly.\n",
    "\n",
    "After convergence, report the final cluster centers. Plot the 3 clusters in different colors with cluster centers clearly marked on the plot.\n",
    "\n",
    "*Answer*"
   ]
  },
  {
   "cell_type": "markdown",
   "metadata": {},
   "source": [
    "In order to implement Lloyd's k-means algorithm, we need to:\n",
    "1. Generate the random centers\n",
    "2. "
   ]
  },
  {
   "cell_type": "code",
   "execution_count": 3,
   "metadata": {},
   "outputs": [],
   "source": [
    "df = pd.read_csv('kMeansData.csv')\n",
    "df['cls'] = np.nan"
   ]
  },
  {
   "cell_type": "code",
   "execution_count": 4,
   "metadata": {
    "scrolled": true
   },
   "outputs": [
    {
     "data": {
      "text/plain": [
       "[(2.7038846802978806, 2.467795253039991),\n",
       " (6.447458697428812, 0.25819724516475384),\n",
       " (1.0407979818179462, 1.5712797834451457)]"
      ]
     },
     "execution_count": 4,
     "metadata": {},
     "output_type": "execute_result"
    }
   ],
   "source": [
    "num_centers = 3\n",
    "centers = []\n",
    "for ii in range(num_centers):\n",
    "    centers.append((\n",
    "        random.uniform(df.x1.min(),df.x1.max()), \n",
    "        random.uniform(df.x2.min(),df.x2.max())))\n",
    "centers"
   ]
  },
  {
   "cell_type": "code",
   "execution_count": 5,
   "metadata": {},
   "outputs": [
    {
     "data": {
      "image/png": "[encoded data removed]",
      "text/plain": [
       "<Figure size 864x576 with 1 Axes>"
      ]
     },
     "metadata": {
      "needs_background": "light"
     },
     "output_type": "display_data"
    }
   ],
   "source": [
    "def plot_clusters(classes = False):\n",
    "    fig, ax = plt.subplots(figsize = (12.0, 8.0))\n",
    "    if classes:\n",
    "        for ii in range(num_centers):\n",
    "            ax.scatter(df[df['cls'] == ii].x1, df[df['cls'] == ii].x2)\n",
    "    else:\n",
    "        ax.scatter(df.x1, df.x2)\n",
    "    [ax.scatter(center[0], center[1], marker='X', c='k') for center in centers]\n",
    "    ax.spines['right'].set_visible(False)\n",
    "    ax.spines['top'].set_visible(False)\n",
    "    ax.spines['bottom'].set_visible(False)\n",
    "    ax.spines['left'].set_visible(False)\n",
    "    ax.tick_params(bottom=False, left=False)\n",
    "    ax.set_yticklabels([])\n",
    "    ax.set_xticklabels([])\n",
    "    plt.show()\n",
    "plot_clusters()"
   ]
  },
  {
   "cell_type": "markdown",
   "metadata": {},
   "source": [
    "So we can calculate the Euclidean distance between each point in order to classify each point.\n",
    "\n",
    "$$\\sqrt{\n",
    "    (x_{1} - \\texttt{center}_1)^{2} + \n",
    "    (x_{2} - \\texttt{center}_2)^{2}\n",
    "} $$"
   ]
  },
  {
   "cell_type": "code",
   "execution_count": 6,
   "metadata": {},
   "outputs": [
    {
     "data": {
      "image/png": "[encoded data removed]",
      "text/plain": [
       "<Figure size 864x576 with 1 Axes>"
      ]
     },
     "metadata": {
      "needs_background": "light"
     },
     "output_type": "display_data"
    }
   ],
   "source": [
    "def assign_classes():\n",
    "    for index, row in df.iterrows():\n",
    "        val, idx = min((val, idx) for (idx, val) in enumerate(\n",
    "            [((row.x1 - center[0])**2 + (row.x2 - center[1])**2)**0.5 for center in centers]))\n",
    "        df.iloc[index]['cls'] = idx\n",
    "assign_classes()\n",
    "plot_clusters(classes=True)"
   ]
  },
  {
   "cell_type": "markdown",
   "metadata": {},
   "source": [
    "Look at that! We were able to classify each point with a certain class. We can now update the centers to be in the centroid of each class. The assignment requires us to update the centers only if the delta is less than 0.001. The process will be:\n",
    "1. Update the centers\n",
    "2. Calculate the delta\n",
    "3. Compare the previous two deltas\n",
    "4. Repeat if the conditions are not meet"
   ]
  },
  {
   "cell_type": "code",
   "execution_count": 7,
   "metadata": {},
   "outputs": [],
   "source": [
    "def get_delta():\n",
    "    temp = []\n",
    "    [temp.append((df[df['cls'] == float(ii)].x1.mean(), df[df['cls'] == float(ii)].x2.mean())) for ii in range(num_centers)]\n",
    "    delta = []\n",
    "    for ii in range(num_centers):\n",
    "        delta.append((\n",
    "            temp[ii][0] - centers[ii][0],\n",
    "            temp[ii][1] - centers[ii][1]\n",
    "        ))\n",
    "    return delta"
   ]
  },
  {
   "cell_type": "code",
   "execution_count": 8,
   "metadata": {},
   "outputs": [],
   "source": [
    "def compare_centers(deltas):\n",
    "    temp = []\n",
    "    count = 0\n",
    "    for ii in range(1,3):\n",
    "        for jj in range(len(deltas[ii])):\n",
    "            temp.append((\n",
    "                abs(deltas[ii][jj][0]-deltas[ii-1][jj][0]), \n",
    "                abs(deltas[ii][jj][1]-deltas[ii-1][jj][1])))\n",
    "    for ii in temp:\n",
    "        if(ii[0] < 0.01 and ii[1] < 0.01):\n",
    "            count += 1\n",
    "    return count == (num_centers - 1) * 3"
   ]
  },
  {
   "cell_type": "code",
   "execution_count": 9,
   "metadata": {},
   "outputs": [
    {
     "data": {
      "image/png": "[encoded data removed]",
      "text/plain": [
       "<Figure size 864x576 with 1 Axes>"
      ]
     },
     "metadata": {
      "needs_background": "light"
     },
     "output_type": "display_data"
    }
   ],
   "source": [
    "deltas = []\n",
    "for ii in range(1000):\n",
    "    centers = [(df[df['cls'] == float(ii)].x1.mean(), df[df['cls'] == float(ii)].x2.mean()) for ii in range(num_centers)]\n",
    "    assign_classes()\n",
    "    deltas.append(get_delta())\n",
    "    if ii > 2:\n",
    "        if compare_centers(deltas):\n",
    "            break\n",
    "        deltas.pop(0)\n",
    "plot_clusters(classes=True)"
   ]
  },
  {
   "cell_type": "markdown",
   "metadata": {},
   "source": [
    "## Problem 2\n",
    "\n",
    "In this problem you will use the data file “rbfClassification.csv” to create an RBF classification model. $x_1$ and $x_2$ denote the input features and cls denotes the target class of the corresponding data points.\n",
    "\n",
    "### 1\n",
    "\n",
    "Use k-means clustering to determine the location of 2 cluster centers that you will use in your RBF model. Report the coordinate of the cluster centers.\n",
    "\n",
    "*Answer*"
   ]
  },
  {
   "cell_type": "code",
   "execution_count": 10,
   "metadata": {},
   "outputs": [
    {
     "data": {
      "text/plain": [
       "[(-0.41890969618932594, 0.4799585701248432),\n",
       " (-0.41890969618932594, 0.4799585701248432)]"
      ]
     },
     "execution_count": 10,
     "metadata": {},
     "output_type": "execute_result"
    }
   ],
   "source": [
    "df = pd.read_csv('rbfClassification.csv')\n",
    "num_centers = 2\n",
    "y = df.cls\n",
    "df['cls'] = np.nan\n",
    "centers = []\n",
    "for ii in range(num_centers):\n",
    "    random.seed(11)\n",
    "    centers.append((\n",
    "        random.uniform(df.x1.min(),df.x1.max()), \n",
    "        random.uniform(df.x2.min(),df.x2.max())))\n",
    "centers"
   ]
  },
  {
   "cell_type": "code",
   "execution_count": 11,
   "metadata": {},
   "outputs": [
    {
     "data": {
      "image/png": "[encoded data removed]",
      "text/plain": [
       "<Figure size 864x576 with 1 Axes>"
      ]
     },
     "metadata": {
      "needs_background": "light"
     },
     "output_type": "display_data"
    },
    {
     "data": {
      "text/plain": [
       "[(0.05811495060000005, 0.50153952215), (nan, nan)]"
      ]
     },
     "execution_count": 11,
     "metadata": {},
     "output_type": "execute_result"
    }
   ],
   "source": [
    "assign_classes()\n",
    "deltas = []\n",
    "for ii in range(1000):\n",
    "    centers = [(df[df['cls'] == float(ii)].x1.mean(), df[df['cls'] == float(ii)].x2.mean()) for ii in range(num_centers)]\n",
    "    assign_classes()\n",
    "    deltas.append(get_delta())\n",
    "    if ii > 2:\n",
    "        if compare_centers(deltas):\n",
    "            break\n",
    "        deltas.pop(0)\n",
    "plot_clusters(True)\n",
    "centers"
   ]
  },
  {
   "cell_type": "markdown",
   "metadata": {},
   "source": [
    "3 nearest neighbors"
   ]
  },
  {
   "cell_type": "markdown",
   "metadata": {},
   "source": [
    "### 2\n",
    "\n",
    "Train an RBF model using $\\gamma = 0.5$. Report the correct classification rate of your model.\n",
    "\n",
    "*Answer*"
   ]
  },
  {
   "cell_type": "markdown",
   "metadata": {},
   "source": [
    "So! In order to solve for the RBF, we must define some variables. Let $\\mu$ be the centers we found previously and $\\gamma=0.5$. We can use the following estimation.\n",
    "\n",
    "$$\n",
    "\\begin{bmatrix}\n",
    "1 & e^{\\gamma |X_{1} - \\mu_{1} |^{2} } & e^{\\gamma |X_{1} - \\mu_{2} |^{2} } \\\\\n",
    "1 & e^{\\gamma |X_{2} - \\mu_{1} |^{2} } & e^{\\gamma |X_{2} - \\mu_{2} |^{2} } \\\\\n",
    "\\vdots & \\vdots & \\vdots \\\\\n",
    "1 & e^{\\gamma |X_{N} - \\mu_{1} |^{2} } & e^{\\gamma |X_{N} - \\mu_{2} |^{2} } \\\\\n",
    "\\end{bmatrix}\n",
    "\\begin{bmatrix}\n",
    "w_{0} \\\\\n",
    "w_{1} \\\\\n",
    "w_{2}\n",
    "\\end{bmatrix}\n",
    "\\approx\n",
    "\\begin{bmatrix}\n",
    "y_{0} \\\\\n",
    "y_{1} \\\\\n",
    "y_{2}\n",
    "\\end{bmatrix}\n",
    "$$\n",
    "\n",
    "To save space, we can rewrite the equation as:\n",
    "\n",
    "$$\n",
    "\\Phi w \\approx y \\text{.}\n",
    "$$\n",
    "\n",
    "Now we can solve for $w$ using linear regression:\n",
    "\n",
    "$$\n",
    "w \\approx (\\Phi^{T}\\Phi)^{-1}\\Phi^{T} y \\text{.}\n",
    "$$"
   ]
  },
  {
   "cell_type": "code",
   "execution_count": 12,
   "metadata": {},
   "outputs": [],
   "source": [
    "gamma = 0.5\n",
    "mu_1 = centers[0]\n",
    "mu_2 = centers[1]\n",
    "phi = []\n",
    "\n",
    "for index, row in df.iterrows():\n",
    "    phi.append([\n",
    "        1,\n",
    "        exp(gamma * (((row.x1 - mu_1[0])**2 + (row.x2 - mu_1[1])**2)**0.5)**2),\n",
    "        exp(gamma * (((row.x1 - mu_2[0])**2 + (row.x2 - mu_2[1])**2)**0.5)**2)\n",
    "    ])\n",
    "phi = np.matrix(phi)\n",
    "w = np.dot(np.dot(np.linalg.inv(np.dot(phi.T,phi)), phi.T), y).ravel().tolist()[0]"
   ]
  },
  {
   "cell_type": "markdown",
   "metadata": {},
   "source": [
    "Alright! After solving for $w$, we can classify the points.\n",
    "\n",
    "$$\n",
    "h(x) = \\sum_{k=1}^{K} w_{k} e^{-\\gamma |x - \\mu_{k} |^{2}}\n",
    "$$"
   ]
  },
  {
   "cell_type": "code",
   "execution_count": 13,
   "metadata": {},
   "outputs": [
    {
     "ename": "NameError",
     "evalue": "name 'k' is not defined",
     "output_type": "error",
     "traceback": [
      "\u001b[1;31m---------------------------------------------------------------------------\u001b[0m",
      "\u001b[1;31mNameError\u001b[0m                                 Traceback (most recent call last)",
      "\u001b[1;32m<ipython-input-13-af25e2bb1e24>\u001b[0m in \u001b[0;36m<module>\u001b[1;34m\u001b[0m\n\u001b[0;32m      3\u001b[0m \u001b[0mh\u001b[0m \u001b[1;33m=\u001b[0m \u001b[1;33m[\u001b[0m\u001b[1;33m]\u001b[0m\u001b[1;33m\u001b[0m\u001b[0m\n\u001b[0;32m      4\u001b[0m \u001b[1;32mfor\u001b[0m \u001b[0mindex\u001b[0m\u001b[1;33m,\u001b[0m \u001b[0mrow\u001b[0m \u001b[1;32min\u001b[0m \u001b[0mdf\u001b[0m\u001b[1;33m.\u001b[0m\u001b[0miterrows\u001b[0m\u001b[1;33m(\u001b[0m\u001b[1;33m)\u001b[0m\u001b[1;33m:\u001b[0m\u001b[1;33m\u001b[0m\u001b[0m\n\u001b[1;32m----> 5\u001b[1;33m     temp = [(w[k] * exp(-gamma * (((row.x1 - mu_1[0])**2 + (row.x2 - mu_1[1])**2)**0.5)**2)),\n\u001b[0m\u001b[0;32m      6\u001b[0m         (w[k] * exp(-gamma * (((row.x1 - mu_2[0])**2 + (row.x2 - mu_2[1])**2)**0.5)**2))]\n\u001b[0;32m      7\u001b[0m     \u001b[0mprediction\u001b[0m \u001b[1;33m=\u001b[0m \u001b[0mtemp\u001b[0m\u001b[1;33m.\u001b[0m\u001b[0mindex\u001b[0m\u001b[1;33m(\u001b[0m\u001b[0mmin\u001b[0m\u001b[1;33m(\u001b[0m\u001b[0mtemp\u001b[0m\u001b[1;33m)\u001b[0m\u001b[1;33m)\u001b[0m\u001b[1;33m\u001b[0m\u001b[0m\n",
      "\u001b[1;31mNameError\u001b[0m: name 'k' is not defined"
     ]
    }
   ],
   "source": [
    "row = df.loc[1]\n",
    "predictions = []\n",
    "h = []\n",
    "for index, row in df.iterrows():\n",
    "    temp = [(w[k] * exp(-gamma * (((row.x1 - mu_1[0])**2 + (row.x2 - mu_1[1])**2)**0.5)**2)),\n",
    "        (w[k] * exp(-gamma * (((row.x1 - mu_2[0])**2 + (row.x2 - mu_2[1])**2)**0.5)**2))]\n",
    "    prediction = temp.index(min(temp))\n",
    "    if prediction:\n",
    "        predictions.append(0)\n",
    "    else:\n",
    "        predictions.append(1)"
   ]
  },
  {
   "cell_type": "markdown",
   "metadata": {},
   "source": [
    "With the predictions out of the way, we can compare the predictions with the given classes."
   ]
  },
  {
   "cell_type": "code",
   "execution_count": 39,
   "metadata": {},
   "outputs": [
    {
     "name": "stdout",
     "output_type": "stream",
     "text": [
      "0.85\n"
     ]
    }
   ],
   "source": [
    "num_correct = 0\n",
    "for ii in range(df.shape[0]):\n",
    "    if y[ii] == predictions[ii]:\n",
    "        num_correct += 1\n",
    "print(num_correct/df.shape[0])"
   ]
  },
  {
   "cell_type": "markdown",
   "metadata": {},
   "source": [
    "## Problem 3\n",
    "\n",
    "The “stuFile.csv” is a list of students’ features at an academic institution that is considering starting a new program. The features include average yearly packaged financial aid, the number of years that the financial aid is awarded for, gender, marital status, marketing code, previous education, admission representative code, program code, citizenship code, ethnicity code, veteran code, and cancel flag code. Some of the students listed in the file cancelled their enrollment after meeting with Financial Aid. These students can be identified by the value of 1 in the cancel flag field.\n",
    "\n",
    "This institution is considering starting a new program after researching the cannibalization rates, navigating regulatory requirements, and determining the potential market. There is an opportunity to market this program to students who cancelled before starting their originally intended program. The presump- tion is that the shorter duration and lower tuition rate of this program may be attractive to some students who cancelled.\n",
    "Your task is to look into the data and provide some insight into who “might” enroll from this population using the clustering schemes discussed in class.\n",
    "\n",
    "### 1\n",
    "\n",
    "Use Value Metric Difference (VDM) to find and report the distance between the different levels of all categorical variables.\n",
    "\n",
    "*Answer*"
   ]
  },
  {
   "cell_type": "markdown",
   "metadata": {},
   "source": [
    "### 2\n",
    "\n",
    "Use VDM along with other distance metrics for continuous features to cluster the data. Justify the number of clusters you have used. Use Elbow plot.\n",
    "\n",
    "*Answer*"
   ]
  },
  {
   "cell_type": "markdown",
   "metadata": {},
   "source": [
    "### 3\n",
    "\n",
    "Report the number of cancels and starts in each cluster in a table.\n",
    "\n",
    "*Answer*"
   ]
  },
  {
   "cell_type": "markdown",
   "metadata": {},
   "source": [
    "### 4\n",
    "\n",
    "Provide a heat map of admission reps, marital status, lead category, and previous education map for your clusters.\n",
    "\n",
    "*Answer*"
   ]
  },
  {
   "cell_type": "markdown",
   "metadata": {},
   "source": [
    "### 5\n",
    "\n",
    "In a few sentences, provide insight into identifying those students that are most likely to be converted. List these students.\n",
    "\n",
    "*Answer*"
   ]
  },
  {
   "cell_type": "code",
   "execution_count": null,
   "metadata": {},
   "outputs": [],
   "source": []
  }
 ],
 "metadata": {
  "kernelspec": {
   "display_name": "Python 3",
   "language": "python",
   "name": "python3"
  },
  "language_info": {
   "codemirror_mode": {
    "name": "ipython",
    "version": 3
   },
   "file_extension": ".py",
   "mimetype": "text/x-python",
   "name": "python",
   "nbconvert_exporter": "python",
   "pygments_lexer": "ipython3",
   "version": "3.6.6"
  }
 },
 "nbformat": 4,
 "nbformat_minor": 2
}
